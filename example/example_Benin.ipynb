{
 "cells": [
  {
   "cell_type": "code",
   "execution_count": 11,
   "metadata": {},
   "outputs": [
    {
     "data": {
      "text/plain": [
       "<module 'class_on_shape' from '/Users/peterpfleiderer/Projects/shaped_analysis/class_on_shape.py'>"
      ]
     },
     "execution_count": 11,
     "metadata": {},
     "output_type": "execute_result"
    }
   ],
   "source": [
    "import os,sys,importlib\n",
    "import class_on_shape; importlib.reload(class_on_shape)"
   ]
  },
  {
   "cell_type": "markdown",
   "metadata": {},
   "source": [
    "#### Initialize a country object\n",
    "This will create a folder at the directory specified with \"working_directory\" where all processed data will be stored"
   ]
  },
  {
   "cell_type": "code",
   "execution_count": 12,
   "metadata": {},
   "outputs": [],
   "source": [
    "COU = class_on_shape.shaped_object(iso='BEN', working_directory='example/BEN')"
   ]
  },
  {
   "cell_type": "markdown",
   "metadata": {},
   "source": [
    "#### Read shapefiles relevant for the country\n",
    "If only the path to a shapefile is specified, the info for the first shape is printed so that you can see what tags you want to use"
   ]
  },
  {
   "cell_type": "code",
   "execution_count": 14,
   "metadata": {},
   "outputs": [
    {
     "name": "stdout",
     "output_type": "stream",
     "text": [
      "Please specify which variables should be used as \"long_name\" and as \"short_name\"\n",
      "{'ID_0': 25, 'ISO': 'BEN', 'NAME_ENGLI': 'Benin', 'NAME_ISO': 'BENIN', 'NAME_FAO': 'Benin', 'NAME_LOCAL': 'Benin', 'NAME_OBSOL': None, 'NAME_VARIA': 'Dahomey', 'NAME_NONLA': None, 'NAME_FRENC': 'Bénin', 'NAME_SPANI': 'Benín', 'NAME_RUSSI': 'Бенин', 'NAME_ARABI': 'بنين', 'NAME_CHINE': '贝宁', 'WASPARTOF': None, 'CONTAINS': None, 'SOVEREIGN': 'Benin', 'ISO2': 'BJ', 'WWW': None, 'FIPS': 'BN', 'ISON': 204.0, 'VALIDFR': '~1900', 'VALIDTO': 'Present', 'POP2000': 6271732.0, 'SQKM': 116514.797, 'POPSQKM': 53.8277726219, 'UNREGION1': 'Western Africa', 'UNREGION2': 'Africa', 'DEVELOPING': 1.0, 'CIS': 0.0, 'Transition': 0.0, 'OECD': 0.0, 'WBREGION': 'Sub-Saharan Africa', 'WBINCOME': 'Low income', 'WBDEBT': 'Moderately indebted', 'WBOTHER': 'HIPC', 'CEEAC': 0.0, 'CEMAC': 0.0, 'CEPLG': 0.0, 'COMESA': 0.0, 'EAC': 0.0, 'ECOWAS': 1.0, 'IGAD': 0.0, 'IOC': 0.0, 'MRU': 0.0, 'SACU': 0.0, 'UEMOA': 1.0, 'UMA': 0.0, 'PALOP': 0.0, 'PARTA': 0.0, 'CACM': 0.0, 'EurAsEC': 0.0, 'Agadir': 0.0, 'SAARC': 0.0, 'ASEAN': 0.0, 'NAFTA': 0.0, 'GCC': 0.0, 'CSN': 0.0, 'CARICOM': 0.0, 'EU': 0.0, 'CAN': 0.0, 'ACP': 1.0, 'Landlocked': 0.0, 'AOSIS': 0.0, 'SIDS': 0.0, 'Islands': 0.0, 'LDC': 1.0}\n"
     ]
    },
    {
     "data": {
      "text/plain": [
       "0"
      ]
     },
     "execution_count": 14,
     "metadata": {},
     "output_type": "execute_result"
    }
   ],
   "source": [
    "COU.read_shapefile('example/example_data/BEN_adm_shp/BEN_adm0.shp')"
   ]
  },
  {
   "cell_type": "markdown",
   "metadata": {},
   "source": [
    "In this case we want to use 'NAME_LOCAL' as the full name of the region and 'ISO' as a (language independent) short_name"
   ]
  },
  {
   "cell_type": "code",
   "execution_count": 16,
   "metadata": {},
   "outputs": [],
   "source": [
    "COU.read_shapefile('example/example_data/BEN_adm_shp/BEN_adm0.shp', long_name='NAME_LOCAL', short_name='ISO')"
   ]
  },
  {
   "cell_type": "markdown",
   "metadata": {},
   "source": [
    "#### Now we do the same for the admin level 1"
   ]
  },
  {
   "cell_type": "code",
   "execution_count": 17,
   "metadata": {},
   "outputs": [
    {
     "name": "stdout",
     "output_type": "stream",
     "text": [
      "Please specify which variables should be used as \"long_name\" and as \"short_name\"\n",
      "{'ID_0': 25, 'ISO': 'BEN', 'NAME_0': 'Benin', 'ID_1': 1, 'NAME_1': 'Alibori', 'HASC_1': 'BJ.AL', 'CCN_1': 0, 'CCA_1': None, 'TYPE_1': 'Département', 'ENGTYPE_1': 'Department', 'NL_NAME_1': None, 'VARNAME_1': None}\n"
     ]
    },
    {
     "data": {
      "text/plain": [
       "0"
      ]
     },
     "execution_count": 17,
     "metadata": {},
     "output_type": "execute_result"
    }
   ],
   "source": [
    "COU.read_shapefile('example_data/BEN_adm_shp/BEN_adm1.shp')"
   ]
  },
  {
   "cell_type": "code",
   "execution_count": 18,
   "metadata": {},
   "outputs": [],
   "source": [
    "COU.read_shapefile('example/example_data/BEN_adm_shp/BEN_adm1.shp', long_name='NAME_1', short_name='HASC_1')"
   ]
  },
  {
   "cell_type": "code",
   "execution_count": 25,
   "metadata": {},
   "outputs": [
    {
     "name": "stdout",
     "output_type": "stream",
     "text": [
      "{'BEN': 'Benin', 'BJ.AL': 'Alibori', 'BJ.AK': 'Atakora', 'BJ.AQ': 'Atlantique', 'BJ.BO': 'Borgou', 'BJ.CL': 'Collines', 'BJ.DO': 'Donga', 'BJ.CF': 'Kouffo', 'BJ.LI': 'Littoral', 'BJ.MO': 'Mono', 'BJ.OU': 'Ouémé', 'BJ.PL': 'Plateau', 'BJ.ZO': 'Zou'}\n"
     ]
    }
   ],
   "source": [
    "COU.load_shapefile()\n",
    "print(COU._region_names)"
   ]
  },
  {
   "cell_type": "markdown",
   "metadata": {},
   "source": [
    "#### Create a mask for all shapes\n",
    "For each grid a new mask has to be required. The grid is taken from an example file 'input_file'.\n",
    "Here a simple latitude weighted mask is created. (You can also create population weighted masks)."
   ]
  },
  {
   "cell_type": "code",
   "execution_count": 20,
   "metadata": {},
   "outputs": [
    {
     "name": "stderr",
     "output_type": "stream",
     "text": [
      "/Users/peterpfleiderer/Projects/shaped_analysis/class_on_shape.py:282: RuntimeWarning: Mean of empty slice\n",
      "  lons=sorted(np.where(np.isfinite(np.nanmean(cou_mask,0)))[0])\n",
      "/Users/peterpfleiderer/Projects/shaped_analysis/class_on_shape.py:284: RuntimeWarning: Mean of empty slice\n",
      "  lats=sorted(np.where(np.isfinite(np.nanmean(cou_mask,1)))[0])\n"
     ]
    }
   ],
   "source": [
    "COU.create_masks(input_file='example/example_data/mon_JRA55_002_prmsl.nc', mask_style='latWeight', lat_weighted=True)"
   ]
  },
  {
   "cell_type": "code",
   "execution_count": 21,
   "metadata": {},
   "outputs": [],
   "source": [
    "COU.load_mask()"
   ]
  },
  {
   "cell_type": "markdown",
   "metadata": {},
   "source": [
    "#### Load relevant grid-cells for the country\n",
    "from the example file a all grid-cells which are touched by the shapefile are stored in a small netcdf file\n",
    "with the tags, the data source, model name, scenario etc can be specified"
   ]
  },
  {
   "cell_type": "code",
   "execution_count": 23,
   "metadata": {},
   "outputs": [],
   "source": [
    "COU.zoom_data(input_file='example/example_data/mon_JRA55_002_prmsl.nc',var_name='var2',given_var_name='psl',tags={'source':'JRA55'})"
   ]
  },
  {
   "cell_type": "code",
   "execution_count": 24,
   "metadata": {},
   "outputs": [
    {
     "name": "stdout",
     "output_type": "stream",
     "text": [
      "0.02179408073425293\n"
     ]
    }
   ],
   "source": [
    "# scout data checks what data is available and collects all tags\n",
    "COU.scout_data()\n",
    "# using these tags one xarray combining all the data is created\n",
    "COU.read_griddedData()\n",
    "# area averages for all regions and all data are created\n",
    "COU.calculate_areaAverage()"
   ]
  },
  {
   "cell_type": "code",
   "execution_count": null,
   "metadata": {},
   "outputs": [],
   "source": []
  }
 ],
 "metadata": {
  "kernelspec": {
   "display_name": "py_regioclim",
   "language": "python",
   "name": "py_regioclim"
  },
  "language_info": {
   "codemirror_mode": {
    "name": "ipython",
    "version": 3
   },
   "file_extension": ".py",
   "mimetype": "text/x-python",
   "name": "python",
   "nbconvert_exporter": "python",
   "pygments_lexer": "ipython3",
   "version": "3.7.6"
  }
 },
 "nbformat": 4,
 "nbformat_minor": 2
}
